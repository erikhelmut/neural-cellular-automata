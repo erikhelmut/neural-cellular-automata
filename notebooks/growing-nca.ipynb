{
 "cells": [
  {
   "cell_type": "code",
   "execution_count": 3,
   "metadata": {},
   "outputs": [],
   "source": [
    "import torch\n",
    "import torch.nn as nn"
   ]
  },
  {
   "cell_type": "code",
   "execution_count": 4,
   "metadata": {},
   "outputs": [
    {
     "name": "stdout",
     "output_type": "stream",
     "text": [
      "PyTorch version: 2.0.1\n",
      "Is MPS (Metal Performance Shader) built? True\n",
      "Is MPS available? True\n",
      "Using device: mps\n"
     ]
    }
   ],
   "source": [
    "print(f\"PyTorch version: {torch.__version__}\")\n",
    "\n",
    "# Check PyTorch has access to MPS (Metal Performance Shader, Apple's GPU architecture)\n",
    "print(f\"Is MPS (Metal Performance Shader) built? {torch.backends.mps.is_built()}\")\n",
    "print(f\"Is MPS available? {torch.backends.mps.is_available()}\")\n",
    "\n",
    "# Set the device      \n",
    "device = \"mps\" if torch.backends.mps.is_available() else \"cpu\"\n",
    "print(f\"Using device: {device}\")"
   ]
  },
  {
   "cell_type": "code",
   "execution_count": null,
   "metadata": {},
   "outputs": [],
   "source": [
    "class NCA(nn.Module):\n",
    "    \n",
    "    def __init__(self, n_channels=16, hidden_channels=128, fire_rate=0.5, devide=None):\n",
    "        super(NCA, self).__init__()\n",
    "\n",
    "        self.n_channels = n_channels\n",
    "        self.hidden_channels = hidden_channels\n",
    "        self.fire_rate = fire_rate\n",
    "\n",
    "        # Set the device\n",
    "        self.device = device or torch.device(\"cpu\")\n",
    "\n",
    "        # define the fixed filters for perception\n",
    "        sobel_filter = torch.tensor([[-1, 0, 1], [-2, 0, 2], [-1, 0, 1]], dtype=torch.float32)\n",
    "\n",
    "        sobel_filter_x = sobel_filter / torch.sum(torch.abs(sobel_filter))\n",
    "        sobel_filter_y = sobel_filter_x.t()\n",
    "\n",
    "        identity_filter = torch.tensor([[0, 0, 0], [0, 1, 0], [0, 0, 0]], dtype=torch.float32)\n",
    "\n",
    "        # TODO for perceive step filters = \n",
    "    \n",
    "    def perceive(self, x):\n",
    "        return nn.functional.conv2d(x, self.filters, padding=1)\n",
    "    \n",
    "    def update(self):\n",
    "        pass\n",
    "    \n",
    "    def stochastic_update(self):\n",
    "        pass\n",
    "    \n",
    "    def alive_masking(self):\n",
    "        pass\n",
    "    \n",
    "    def forward(self):\n",
    "        pass"
   ]
  }
 ],
 "metadata": {
  "kernelspec": {
   "display_name": "tgm",
   "language": "python",
   "name": "python3"
  },
  "language_info": {
   "codemirror_mode": {
    "name": "ipython",
    "version": 3
   },
   "file_extension": ".py",
   "mimetype": "text/x-python",
   "name": "python",
   "nbconvert_exporter": "python",
   "pygments_lexer": "ipython3",
   "version": "3.11.3"
  },
  "orig_nbformat": 4
 },
 "nbformat": 4,
 "nbformat_minor": 2
}
